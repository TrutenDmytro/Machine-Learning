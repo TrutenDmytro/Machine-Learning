{
 "cells": [
  {
   "cell_type": "markdown",
   "metadata": {},
   "source": [
    "Трутень Дмитро, ФІТ, 4-4\n",
    "Варіант 28"
   ]
  },
  {
   "cell_type": "markdown",
   "metadata": {},
   "source": [
    "Завдання 1. Виведіть перші 5 рядків таблиці. "
   ]
  },
  {
   "cell_type": "code",
   "execution_count": null,
   "metadata": {},
   "outputs": [],
   "source": [
    "import pandas as pd \n",
    "\n",
    "import numpy as np \n",
    "\n",
    "# Зчитуємо дані з вказаного URL \n",
    "url = \"https://uk.wikipedia.org/wiki/%D0%A1%D0%B5%D1%80%D0%B5%D0%B4%D0%BD%D1%8F_%D0%B7%D0%B0%D1%80%D0%BE%D0%B1%D1%96%D1%82%D0%BD%D0%B0_%D0%BF%D0%BB%D0%B0%D1%82%D0%B0_%D0%B2_%D0%A3%D0%BA%D1%80%D0%B0%D1%97%D0%BD%D1%96\" \n",
    "\n",
    "# Зчитуємо таблицю в DataFrame \n",
    "data = pd.read_html(url, header=0)[2]  # Обираємо другий елемент списку, де знаходиться таблиця \n",
    "\n",
    "print(data.head(5))"
   ]
  },
  {
   "cell_type": "markdown",
   "metadata": {},
   "source": [
    "Завдання 2. Визначте кількість рядків і стовпчиків за допомогою атрибуту shape."
   ]
  },
  {
   "cell_type": "code",
   "execution_count": null,
   "metadata": {},
   "outputs": [],
   "source": [
    "num_rows, num_columns = data.shape\n",
    "print(f\"Кількість рядків: {num_rows}, Кількість стовпчиків: {num_columns}\")"
   ]
  },
  {
   "cell_type": "markdown",
   "metadata": {},
   "source": [
    "Завдання 3. Визначте загальну кількість років та кількість місяців у даних. "
   ]
  },
  {
   "cell_type": "code",
   "execution_count": null,
   "metadata": {},
   "outputs": [],
   "source": [
    "num_years = data.shape[0]\n",
    "num_months = data.shape[1] - 1  # Віднімаємо 1, оскільки перший стовпчик - це рік\n",
    "print(f\"Загальна кількість років: {num_years}, Кількість місяців: {num_months}\")"
   ]
  },
  {
   "cell_type": "markdown",
   "metadata": {},
   "source": [
    "Завдання 4. Замінити пропущені значення  «-» в таблиці на NaN "
   ]
  },
  {
   "cell_type": "code",
   "execution_count": null,
   "metadata": {},
   "outputs": [],
   "source": [
    "data.replace(\"-\", np.nan, inplace=True)"
   ]
  },
  {
   "cell_type": "markdown",
   "metadata": {},
   "source": [
    "Завдання 5. Визначити тип стовпців за допомогою dtypes. "
   ]
  },
  {
   "cell_type": "code",
   "execution_count": null,
   "metadata": {},
   "outputs": [],
   "source": [
    "print(data.dtypes)"
   ]
  },
  {
   "cell_type": "markdown",
   "metadata": {},
   "source": [
    "Завдання 6. Видаліть передостанній і останній стовпчики ( Кількість кгхліба[20] на середнюзарплату,  Кільксть БігМаків на середню зарплату). Далі працюйте з оновленою таблицею.  "
   ]
  },
  {
   "cell_type": "code",
   "execution_count": null,
   "metadata": {},
   "outputs": [],
   "source": [
    "data = data.iloc[:, :-2]  # Видаляємо останні два стовпчики"
   ]
  },
  {
   "cell_type": "markdown",
   "metadata": {},
   "source": [
    "Завдання 7. Замінити тип нечислових даних на числові. "
   ]
  },
  {
   "cell_type": "code",
   "execution_count": null,
   "metadata": {},
   "outputs": [],
   "source": [
    "data = data.apply(pd.to_numeric, errors='coerce')"
   ]
  },
  {
   "cell_type": "markdown",
   "metadata": {},
   "source": [
    "Завдання 8. Порахуйте частку пропусків в кожній колонці (за допомогою методів isnull , sum, len) "
   ]
  },
  {
   "cell_type": "code",
   "execution_count": null,
   "metadata": {},
   "outputs": [],
   "source": [
    "missing_percentage = (data.isnull().sum() / len(data)) * 100\n",
    "print(missing_percentage)"
   ]
  },
  {
   "cell_type": "markdown",
   "metadata": {},
   "source": [
    "Завдання 9. Замініть всі пропущені значення на середні значення по (стовпцю). "
   ]
  },
  {
   "cell_type": "code",
   "execution_count": null,
   "metadata": {},
   "outputs": [],
   "source": [
    "data.fillna(data.mean(), inplace=True)"
   ]
  },
  {
   "cell_type": "markdown",
   "metadata": {},
   "source": [
    "Завдання 10. Знайдіть рік з найвищою зарплатою в Україні в грн і вкажіть цю зарплату.  "
   ]
  },
  {
   "cell_type": "code",
   "execution_count": null,
   "metadata": {},
   "outputs": [],
   "source": [
    "max_salary_year = data.iloc[data['Середня зарплата в Україні в грн'].idxmax()]['Рік']\n",
    "max_salary_value = data['Середня зарплата в Україні в грн'].max()\n",
    "print(f\"Рік з найвищою зарплатою в Україні: {max_salary_year}, Зарплата: {max_salary_value} грн\")"
   ]
  },
  {
   "cell_type": "markdown",
   "metadata": {},
   "source": [
    "Завдання 11. Знайдіть рік з мінімальною  зарплатою в Україні в дол. США і вкажіть цю зарплату. "
   ]
  },
  {
   "cell_type": "code",
   "execution_count": null,
   "metadata": {},
   "outputs": [],
   "source": [
    "min_salary_year_usd = data.iloc[data['Середня зарплата в Україні в дол. США'].idxmin()]['Рік']\n",
    "min_salary_value_usd = data['Середня зарплата в Україні в дол. США'].min()\n",
    "print(f\"Рік з найнижчою зарплатою в Україні в дол. США: {min_salary_year_usd}, Зарплата: {min_salary_value_usd} USD\")"
   ]
  },
  {
   "cell_type": "markdown",
   "metadata": {},
   "source": [
    "Завдання 12. Виведіть роки, коли зарплата в грн була вище середньої "
   ]
  },
  {
   "cell_type": "code",
   "execution_count": null,
   "metadata": {},
   "outputs": [],
   "source": [
    "above_avg_years = data[data['Середня зарплата в Україні в грн'] > data['Середня зарплата в Україні в грн'].mean()]['Рік']\n",
    "print(f\"Роки з зарплатою в грн вище середньої: {above_avg_years.tolist()}\")"
   ]
  },
  {
   "cell_type": "markdown",
   "metadata": {},
   "source": [
    "Завдання 13. Створіть графік, що відображає  зарплату в Україні з часом (за роками). "
   ]
  },
  {
   "cell_type": "code",
   "execution_count": null,
   "metadata": {},
   "outputs": [],
   "source": [
    "import matplotlib.pyplot as plt\n",
    "\n",
    "plt.figure(figsize=(10, 5))\n",
    "plt.plot(data['Рік'], data['Середня зарплата в Україні в грн'], marker='o')\n",
    "plt.title('Середня зарплата в Україні за роками')\n",
    "plt.xlabel('Рік')\n",
    "plt.ylabel('Середня зарплата в Україні в грн')\n",
    "plt.grid(True)\n",
    "plt.show()"
   ]
  },
  {
   "cell_type": "markdown",
   "metadata": {},
   "source": [
    "Завдання 14. Видаліть останній рік з таблиці та виведіть оновлену таблицю. "
   ]
  },
  {
   "cell_type": "code",
   "execution_count": null,
   "metadata": {},
   "outputs": [],
   "source": [
    "data = data.iloc[:-1]  # Видаляємо останній рік\n",
    "print(data)"
   ]
  },
  {
   "cell_type": "markdown",
   "metadata": {},
   "source": [
    "Завдання 15. Побудуйте графік, що відображає середню зарплату в Україні в розрізі років без останнього року. "
   ]
  },
  {
   "cell_type": "code",
   "execution_count": null,
   "metadata": {},
   "outputs": [],
   "source": [
    "plt.figure(figsize=(10, 5))\n",
    "plt.bar(data['Рік'], data['Середня зарплата в Україні в грн'])\n",
    "plt.title('Середня зарплата в Україні (без останнього року)')\n",
    "plt.xlabel('Рік')\n",
    "plt.ylabel('Середня зарплата в Україні в грн')\n",
    "plt.grid(True)\n",
    "plt.show()"
   ]
  },
  {
   "cell_type": "markdown",
   "metadata": {},
   "source": [
    "Завдання 16. Обчисліть зарплату за останні два роки і порівняйте її із зарплатою за останні 5 років. Вкажіть, чи є різниця, і в якому напрямку."
   ]
  },
  {
   "cell_type": "code",
   "execution_count": null,
   "metadata": {},
   "outputs": [],
   "source": [
    "salary_last_two_years = data.iloc[-2:]['Середня зарплата в Україні в грн'].sum()\n",
    "salary_last_five_years = data.iloc[-5:]['Середня зарплата в Україні в грн'].sum()\n",
    "\n",
    "if salary_last_two_years > salary_last_five_years:\n",
    "    difference = salary_last_two_years - salary_last_five_years\n",
    "    print(f\"Зарплата за останні два роки вища на {difference} грн\")\n",
    "elif salary_last_two_years < salary_last_five_years:\n",
    "    difference = salary_last_five_years - salary_last_two_years\n",
    "    print(f\"Зарплата за останні два роки нижча на {difference} грн\")\n",
    "else:\n",
    "    print(\"Зарплата за останні два роки та за останні п'ять років однакова\")"
   ]
  },
  {
   "cell_type": "markdown",
   "metadata": {},
   "source": [
    "Висновок:\n",
    "Під час виконання даної роботи були вирішені різноманітні завдання з обробки та аналізу даних. У ході виконання роботи було проведено аналіз та обробку даних про середню зарплату в Україні за різні роки. Дані були завантажені, очищені від пропущених значень, конвертовані у числовий формат та виведені у зручну для подальшого використання форму. Були знайдені роки з найвищою та найнижчою зарплатою в різних валютах, а також визначено роки, коли зарплата в гривнях перевищувала середнє значення. Побудовані графіки дозволили візуалізувати динаміку заробітних плат у країні."
   ]
  }
 ],
 "metadata": {
  "kernelspec": {
   "display_name": "Python 3",
   "language": "python",
   "name": "python3"
  },
  "language_info": {
   "codemirror_mode": {
    "name": "ipython",
    "version": 3
   },
   "file_extension": ".py",
   "mimetype": "text/x-python",
   "name": "python",
   "nbconvert_exporter": "python",
   "pygments_lexer": "ipython3",
   "version": "3.11.5"
  },
  "orig_nbformat": 4
 },
 "nbformat": 4,
 "nbformat_minor": 2
}
