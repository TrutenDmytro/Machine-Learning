{
 "cells": [
  {
   "cell_type": "markdown",
   "metadata": {},
   "source": [
    "Крок 1: Завантаження даних та пакетів"
   ]
  },
  {
   "cell_type": "code",
   "execution_count": 1,
   "metadata": {},
   "outputs": [],
   "source": [
    "from sklearn.datasets import load_iris\n",
    "from sklearn.model_selection import train_test_split\n",
    "from sklearn.svm import SVC\n",
    "from sklearn.ensemble import RandomForestClassifier\n",
    "from sklearn.metrics import accuracy_score"
   ]
  },
  {
   "cell_type": "markdown",
   "metadata": {},
   "source": [
    "Крок 2: Завантаження та розділення даних"
   ]
  },
  {
   "cell_type": "code",
   "execution_count": 2,
   "metadata": {},
   "outputs": [],
   "source": [
    "# Завантаження набору даних Iris\n",
    "iris = load_iris()\n",
    "X = iris.data  # ознаки\n",
    "y = iris.target  # класи\n",
    "\n",
    "# Розділення на тренувальний та тестовий набори\n",
    "X_train, X_test, y_train, y_test = train_test_split(X, y, test_size=0.2, random_state=42)"
   ]
  },
  {
   "cell_type": "markdown",
   "metadata": {},
   "source": [
    "Крок 3: Застосування SVM"
   ]
  },
  {
   "cell_type": "code",
   "execution_count": 3,
   "metadata": {},
   "outputs": [
    {
     "name": "stdout",
     "output_type": "stream",
     "text": [
      "Точність моделі SVM: 1.0\n"
     ]
    }
   ],
   "source": [
    "# Створення та тренування моделі SVM\n",
    "svm_model = SVC(kernel='linear', C=1)  # вибір лінійного ядра та параметру C\n",
    "svm_model.fit(X_train, y_train)\n",
    "\n",
    "# Прогнозування класів на тестовому наборі\n",
    "svm_predictions = svm_model.predict(X_test)\n",
    "\n",
    "# Визначення точності моделі SVM\n",
    "svm_accuracy = accuracy_score(y_test, svm_predictions)\n",
    "print(\"Точність моделі SVM:\", svm_accuracy)"
   ]
  },
  {
   "cell_type": "markdown",
   "metadata": {},
   "source": [
    "Крок 4: Застосування Random Forest"
   ]
  },
  {
   "cell_type": "code",
   "execution_count": 4,
   "metadata": {},
   "outputs": [
    {
     "name": "stdout",
     "output_type": "stream",
     "text": [
      "Точність моделі Random Forest: 1.0\n"
     ]
    }
   ],
   "source": [
    "# Створення та тренування моделі Random Forest\n",
    "rf_model = RandomForestClassifier(n_estimators=100, random_state=42)\n",
    "rf_model.fit(X_train, y_train)\n",
    "\n",
    "# Прогнозування класів на тестовому наборі\n",
    "rf_predictions = rf_model.predict(X_test)\n",
    "\n",
    "# Визначення точності моделі Random Forest\n",
    "rf_accuracy = accuracy_score(y_test, rf_predictions)\n",
    "print(\"Точність моделі Random Forest:\", rf_accuracy)"
   ]
  },
  {
   "cell_type": "markdown",
   "metadata": {},
   "source": [
    "Крок 5: Порівняння та обговорення результатів"
   ]
  },
  {
   "cell_type": "code",
   "execution_count": 5,
   "metadata": {},
   "outputs": [
    {
     "name": "stdout",
     "output_type": "stream",
     "text": [
      "Точність моделі SVM: 1.0\n",
      "Точність моделі Random Forest: 1.0\n"
     ]
    }
   ],
   "source": [
    "# Порівняння точностей\n",
    "print(\"Точність моделі SVM:\", svm_accuracy)\n",
    "print(\"Точність моделі Random Forest:\", rf_accuracy)"
   ]
  },
  {
   "cell_type": "markdown",
   "metadata": {},
   "source": [
    "Висновок: \n",
    "\n",
    "Обидва алгоритви показали себе однаково точно. Вірогідніше всього це обумовлено даними, які ідеально підходять для опрацювання подібними алгоритмами."
   ]
  }
 ],
 "metadata": {
  "kernelspec": {
   "display_name": "Python 3",
   "language": "python",
   "name": "python3"
  },
  "language_info": {
   "codemirror_mode": {
    "name": "ipython",
    "version": 3
   },
   "file_extension": ".py",
   "mimetype": "text/x-python",
   "name": "python",
   "nbconvert_exporter": "python",
   "pygments_lexer": "ipython3",
   "version": "3.11.5"
  }
 },
 "nbformat": 4,
 "nbformat_minor": 2
}
